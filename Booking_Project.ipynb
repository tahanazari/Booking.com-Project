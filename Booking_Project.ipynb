{
 "cells": [
  {
   "cell_type": "markdown",
   "metadata": {},
   "source": [
    "# Booking.com TrustPilot Project\n",
    "This project is based on the tutorial provided by the ScraperAPI in this [link](https://www.scraperapi.com/blog/scraping-trustpilot-reviews/).\n"
   ]
  },
  {
   "cell_type": "code",
   "execution_count": 2,
   "metadata": {},
   "outputs": [],
   "source": [
    "# Import libraries\n",
    "from bs4 import BeautifulSoup\n",
    "import requests\n",
    "import csv"
   ]
  },
  {
   "cell_type": "code",
   "execution_count": null,
   "metadata": {},
   "outputs": [],
   "source": [
    "company = \"booking.com\"\n",
    "base_url = f\"https://www.trustpilot.com/review/www.booking.com\"\n",
    "\n",
    "headers = {\n",
    "\t'User-Agent': 'Mozilla/5.0 (Windows NT 10.0; Win64; x64) AppleWebKit/537.36 (KHTML, like Gecko) Chrome/91.0.4472.124 Safari/537.36',\n",
    "\t'accept-language': 'en-US,en;q=0.9'\n",
    "}\n",
    "payload = {\n",
    "\t'api_key': \"YOUR API KEY\",\n",
    "\t'url': base_url,\n",
    "\t'render': 'true',\n",
    "\t'keep_headers': 'true',\n",
    "}\n",
    "\n",
    "try:\n",
    "\tresponse = requests.get('https://api.scraperapi.com', params=payload, headers=headers)\n",
    "\tsoup = BeautifulSoup(response.content, 'html.parser')\n",
    "\tpages_to_scrape = 10\n",
    "\t\n",
    "\twith open('trustpilot_reviews.csv', 'w', newline='', encoding='utf-8') as csvfile:\n",
    "\t\tcsv_writer = csv.writer(csvfile)\n",
    "\t\tcsv_writer.writerow(['Reviewer', 'Rating', 'Review', 'Date'])\n",
    "\t\t\n",
    "\t\tfor page in range(1, pages_to_scrape):\n",
    "\t\t\tpayload['url'] = f\"{base_url}?page={page}\"\n",
    "\t\t\tpage_response = requests.get('https://api.scraperapi.com', params=payload, headers=headers)\n",
    "\t\t\tpage_soup = BeautifulSoup(page_response.content, 'html.parser')\n",
    "\t\t\treviews = page_soup.find_all('div', {\"class\": \"styles_reviewCardInner__EwDq2\"})\n",
    "\t\t\t\n",
    "\t\t\tfor review in reviews:\n",
    "\t\t\t\treviewer = review.find(\"span\", attrs={\"class\": \"typography_heading-xxs__QKBS8\"}).text\n",
    "\t\t\t\trating = review.find(\"div\", attrs={\"class\": \"styles_reviewHeader__iU9Px\"})[\"data-service-review-rating\"]\n",
    "\t\t\t\tcontent_element = review.find(\"p\", attrs={\"class\": \"typography_body-l__KUYFJ\"})\n",
    "\t\t\t\tcontent = content_element.text if content_element else 'None'\n",
    "\t\t\t\tdate = review.find(\"p\", attrs={\"class\":\"typography_body-m__xgxZ_ typography_appearance-default__AAY17\"}).text\n",
    "\t\t\t\tcsv_writer.writerow([reviewer, rating, content, date])\n",
    "\tprint(\"Data Extraction Successful!\")\n",
    "except Exception as e:\n",
    "\tprint(\"An error occurred:\", e)"
   ]
  }
 ],
 "metadata": {
  "kernelspec": {
   "display_name": "Python 3",
   "language": "python",
   "name": "python3"
  },
  "language_info": {
   "codemirror_mode": {
    "name": "ipython",
    "version": 3
   },
   "file_extension": ".py",
   "mimetype": "text/x-python",
   "name": "python",
   "nbconvert_exporter": "python",
   "pygments_lexer": "ipython3",
   "version": "3.11.5"
  }
 },
 "nbformat": 4,
 "nbformat_minor": 2
}
